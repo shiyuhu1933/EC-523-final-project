{
  "cells": [
    {
      "cell_type": "code",
      "execution_count": 2,
      "metadata": {
        "id": "x6jv_VWhXPTb"
      },
      "outputs": [],
      "source": [
        "'''\n",
        "author: Shiwen Tang\n",
        "IBSA Block\n",
        "'''\n",
        "\n",
        "import torch.nn as nn\n",
        "\n",
        "class IBSA_Block(nn.Module):\n",
        "  def __init__(self, dim_in, dim_out, stride=1):\n",
        "    super().__init__()\n",
        "\n",
        "    self.dim_in, self.dim_out = dim_in, dim_out\n",
        "    self.bn1 = nn.BatchNorm2d(dim_in, affine=True, track_running_stats=True)\n",
        "    self.bn2 = nn.BatchNorm2d(dim_out, affine=True, track_running_stats=True)\n",
        "    self.conv = nn.Conv2d(dim_in, dim_out, kernel_size=3, stride=stride)\n",
        "    self.mhsa = nn.MultiheadAttention(dim_in)\n",
        "    self.prelu = nn.PReLU()\n",
        "  \n",
        "  def forward(self, input):\n",
        "    identity = input\n",
        "\n",
        "    output = self.bn1(input)\n",
        "    output = self.conv(output)\n",
        "    output = self.bn2(output)\n",
        "    output = self.prelu(output)\n",
        "    output = self.mhsa(output)\n",
        "    output = self.bn2(output)\n",
        "\n",
        "    output += identity\n",
        "    \n",
        "    return output\n",
        "\n"
      ]
    }
  ],
  "metadata": {
    "colab": {
      "collapsed_sections": [],
      "name": "Untitled0.ipynb",
      "provenance": []
    },
    "kernelspec": {
      "display_name": "Python 3",
      "name": "python3"
    },
    "language_info": {
      "name": "python"
    }
  },
  "nbformat": 4,
  "nbformat_minor": 0
}
