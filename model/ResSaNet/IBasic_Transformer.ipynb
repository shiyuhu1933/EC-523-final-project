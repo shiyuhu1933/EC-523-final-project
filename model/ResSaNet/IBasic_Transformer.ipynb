{
 "cells": [
  {
   "cell_type": "code",
   "execution_count": null,
   "id": "1fc8f78e",
   "metadata": {},
   "outputs": [],
   "source": [
    "import torch.nn as nn\n",
    "\n",
    "class IBasic_Transformer(nn.Module):\n",
    "    def __init__(self, dim_in, dim_out, k, stride=1):\n",
    "    super(IBasic_Transformer, self).__init__()\n",
    "    self.main = nn.Sequential(\n",
    "        IBSA_Block(dim_in, dim_out),\n",
    "        nn.Conv2d(dim_out, dim_out, kernel_size=1, stride=1, padding=1),\n",
    "        nn.ReLU(inplace=True),\n",
    "        nn.BatchNorm2d(dim_out, affine=True, track_running_stats=True),\n",
    "        nn.Conv2d(dim_out, k*dim_out, kernel_size=3, stride=1, padding=1, groups=dim_out),\n",
    "        nn.ReLU(inplace=True),\n",
    "        nn.BatchNorm2d(dim_out, affine=True, track_running_stats=True),\n",
    "        SE_block(dim_out, dim_out),\n",
    "        nn.Conv2d(dim_out, dim_out, kernel_size=1, stride=1, padding=1),\n",
    "        nn.BatchNorm2d(dim_out, affine=True, track_running_stats=True)),\n",
    "    self.main = self.main + IBSA_Block(dim_in, dim_out)\n",
    "    \n",
    "    def forward(self, x):\n",
    "        return self.main(x)\n",
    "        \n",
    "    "
   ]
  }
 ],
 "metadata": {
  "kernelspec": {
   "display_name": "Python 3 (ipykernel)",
   "language": "python",
   "name": "python3"
  },
  "language_info": {
   "codemirror_mode": {
    "name": "ipython",
    "version": 3
   },
   "file_extension": ".py",
   "mimetype": "text/x-python",
   "name": "python",
   "nbconvert_exporter": "python",
   "pygments_lexer": "ipython3",
   "version": "3.8.8"
  }
 },
 "nbformat": 4,
 "nbformat_minor": 5
}
