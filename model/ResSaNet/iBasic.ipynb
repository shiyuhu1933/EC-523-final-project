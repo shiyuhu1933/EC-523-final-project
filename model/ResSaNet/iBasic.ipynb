{
 "cells": [
  {
   "cell_type": "code",
   "execution_count": null,
   "metadata": {},
   "outputs": [],
   "source": [
    "import torch.nn as nn"
   ]
  },
  {
   "cell_type": "code",
   "execution_count": null,
   "metadata": {},
   "outputs": [],
   "source": [
    "def conv3x3(in_planes, out_planes, stride=1):\n",
    "    conv3x3 = nn.Conv2d(in_planes, out_planes, kernel_size=3, stride=stride, padding=1, bias=False)\n",
    "    return conv3x3\n",
    "\n",
    "def conv1x1(in_planes, out_planes, stride=1):\n",
    "    conv1x1 = nn.Conv2d(in_planes, out_planes, kernel_size=1, stride=stride, bias=False)\n",
    "    return conv1x1"
   ]
  },
  {
   "cell_type": "code",
   "execution_count": null,
   "metadata": {},
   "outputs": [],
   "source": [
    "''' modified from BasicBlock in iResNet.ipynb'''\n",
    "\n",
    "class iBasic(nn.Module):\n",
    "    exp_block = 1\n",
    "\n",
    "    def __init__(self, inplanes, outplanes, stride=1, downsample=None, nm_layer=None, s_block=False, e_block=False, exd_bn0=False):\n",
    "        super(iBasic, self).__init__()\n",
    "        if nm_layer is None:\n",
    "            nm_layer = nn.BatchNorm2d\n",
    "        if not s_block and not exd_bn0:\n",
    "            self.bn0 = nm_layer(inplanes)\n",
    "\n",
    "        self.conv1 = conv3x3(inplanes, outplanes, stride)\n",
    "        self.bn1 = nm_layer(outplanes)\n",
    "        self.prelu = nn.PReLU()\n",
    "        self.conv2 = conv3x3(outplanes, outplanes)\n",
    "\n",
    "        if s_block:\n",
    "            self.bn2 = nm_layer(outplanes)\n",
    "\n",
    "        if e_block:\n",
    "            self.bn2 = nm_layer(outplanes)\n",
    "\n",
    "        self.downsample = downsample\n",
    "        self.stride = stride\n",
    "\n",
    "        self.s_block = s_block\n",
    "        self.e_block = e_block\n",
    "        self.exd_bn0 = exd_bn0\n",
    "\n",
    "    def forward(self, x):\n",
    "        identity = x\n",
    "\n",
    "        if self.s_block:\n",
    "            out = self.conv1(x)\n",
    "        elif self.exd_bn0:\n",
    "            out = self.prelu(x)\n",
    "            out = self.conv1(out)\n",
    "        else:\n",
    "            out = self.bn0(x)\n",
    "            out = self.prelu(out)\n",
    "            out = self.conv1(out)\n",
    "\n",
    "        out = self.bn1(out)\n",
    "        out = self.prelu(out)\n",
    "\n",
    "        out = self.conv2(out)\n",
    "\n",
    "        if self.s_block:\n",
    "            out = self.bn2(out)\n",
    "\n",
    "        if self.downsample is not None:\n",
    "            identity = self.downsample(x)\n",
    "\n",
    "        out = out + identity\n",
    "\n",
    "        if self.e_block:\n",
    "            out = self.bn2(out)\n",
    "            out = self.prelu(out)\n",
    "\n",
    "        return out\n"
   ]
  }
 ],
 "metadata": {
  "language_info": {
   "name": "python"
  },
  "orig_nbformat": 4
 },
 "nbformat": 4,
 "nbformat_minor": 2
}
