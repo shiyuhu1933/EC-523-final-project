{
 "cells": [
  {
   "cell_type": "code",
   "execution_count": null,
   "metadata": {},
   "outputs": [],
   "source": [
    "class IBasic_Block(nn.Module):\n",
    "  def __init__(self, dim_in, dim_out, stride=1):\n",
    "    super().__init__()\n",
    "\n",
    "    self.bn1 = nn.BatchNorm2d(dim_in, affine=True, track_running_stats=True)\n",
    "    self.bn2 = nn.BatchNorm2d(dim_out, affine=True, track_running_stats=True)\n",
    "    self.conv1 = nn.Conv2d(dim_in, dim_out, kernel_size=3, stride=stride, padding=1)\n",
    "    self.conv2 = nn.Conv2d(dim_out, dim_out, kernel_size=3, stride=stride, padding=1)\n",
    "    self.prelu = nn.PReLU()\n",
    "  \n",
    "  def forward(self, input):\n",
    "    identity = input\n",
    "\n",
    "    output = self.bn1(input)\n",
    "    output = self.conv1(output)\n",
    "    output = self.bn2(output)\n",
    "    output = self.prelu(output)\n",
    "    output = self.conv2(output)\n",
    "    output = self.bn2(output)\n",
    "\n",
    "    output += identity\n",
    "    return output"
   ]
  }
 ],
 "metadata": {
  "language_info": {
   "name": "python"
  },
  "orig_nbformat": 4
 },
 "nbformat": 4,
 "nbformat_minor": 2
}
