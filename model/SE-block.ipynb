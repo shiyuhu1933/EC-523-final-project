{
  "nbformat": 4,
  "nbformat_minor": 0,
  "metadata": {
    "colab": {
      "name": "Untitled2.ipynb",
      "provenance": [],
      "authorship_tag": "ABX9TyN/kM9/cmlB79eJj4PREYBd",
      "include_colab_link": true
    },
    "kernelspec": {
      "name": "python3",
      "display_name": "Python 3"
    },
    "language_info": {
      "name": "python"
    }
  },
  "cells": [
    {
      "cell_type": "markdown",
      "metadata": {
        "id": "view-in-github",
        "colab_type": "text"
      },
      "source": [
        "<a href=\"https://colab.research.google.com/github/shiyuhu1933/EC-523-final-project/blob/main/SE-block.ipynb\" target=\"_parent\"><img src=\"https://colab.research.google.com/assets/colab-badge.svg\" alt=\"Open In Colab\"/></a>"
      ]
    },
    {
      "cell_type": "code",
      "execution_count": 1,
      "metadata": {
        "id": "s_FGh22TwRhy"
      },
      "outputs": [],
      "source": [
        "import os\n",
        "import random\n",
        "import math\n",
        "import datetime\n",
        "import time\n",
        "import numpy as np\n",
        "import h5py\n",
        "import matplotlib.pyplot as plt\n",
        "import matplotlib.animation as animation\n",
        "from IPython.display import HTML\n",
        "from PIL import Image\n",
        "\n",
        "import torch\n",
        "import torch.nn as nn\n",
        "import torch.nn.functional as F\n",
        "import torch.nn.parallel\n",
        "import torch.backends.cudnn as cudnn\n",
        "import torch.optim as optim\n",
        "import torch.utils.data\n",
        "from torch.utils import data\n",
        "import torchvision.datasets as dset\n",
        "import torchvision.transforms as transforms\n",
        "import torchvision.utils as vutils\n",
        "from torchvision import transforms as T\n",
        "from torchvision.datasets import ImageFolder\n",
        "from torch.autograd import Variable\n",
        "from torchvision.utils import save_image\n",
        "from torch.backends import cudnn\n",
        "\n",
        "import numpy as np \n",
        "from PIL import Image\n",
        "from tqdm import tqdm \n",
        "import random \n",
        "\n",
        "import torch\n",
        "import torchvision\n",
        "import torchvision.transforms as transforms\n",
        "from torchvision.datasets import CIFAR10\n",
        "from torch import nn, optim"
      ]
    },
    {
      "cell_type": "code",
      "source": [
        "class SE_block(nn.Module):\n",
        "  def __init__(self, ch, kn, stride, padding, enable):\n",
        "    super(SE_block, self).__init__()\n",
        "    self.ch, self.kn, self.stride, self.padding, self.enable  = ch, kn, stride, padding, enable\n",
        "    self.conv1 = nn.Conv2d(ch, ch, kn, stride, padding, bias=True)\n",
        "    self.conv1_norm = nn.InstanceNorm2d(ch)\n",
        "    self.conv2 = nn.Conv2d(ch, ch, kn, stride, padding, bias=True)\n",
        "    self.conv2_norm = nn.InstanceNorm2d(ch)\n",
        "\n",
        "    self.se_conv1 = nn.Conv2d(ch, ch//16, kernel_size = 1)\n",
        "    self.se_conv2 = nn.Conv2d(ch//16, ch, kernel_size = 1)\n",
        "  def forward(self, x):\n",
        "    output = F.relu(self.conv1_norm(self.conv1(x)))\n",
        "    output = self.conv2_norm(self.conv2(output))\n",
        "    if self.enable:\n",
        "      se = F.avg_pool2d(output, output.size(2))\n",
        "      se = F.relu(self.se_conv1(se))\n",
        "      se = F.sigmoid(self.se_conv2(se))\n",
        "      output = se * output\n",
        "    output = output + x\n",
        "    output = F.relu(output)\n",
        "    return output \n"
      ],
      "metadata": {
        "id": "b2tXF6Arp7bd"
      },
      "execution_count": 6,
      "outputs": []
    }
  ]
}
