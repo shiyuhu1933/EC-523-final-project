{
  "cells": [
    {
      "cell_type": "markdown",
      "metadata": {
        "id": "view-in-github",
        "colab_type": "text"
      },
      "source": [
        "<a href=\"https://colab.research.google.com/github/shiyuhu1933/EC-523-final-project/blob/main/train_and_test_version_1.ipynb\" target=\"_parent\"><img src=\"https://colab.research.google.com/assets/colab-badge.svg\" alt=\"Open In Colab\"/></a>"
      ]
    },
    {
      "cell_type": "code",
      "execution_count": 1,
      "metadata": {
        "id": "318VXns672jk"
      },
      "outputs": [],
      "source": [
        "from google.colab import drive\n",
        "import torch\n",
        "import os\n",
        "import h5py\n",
        "import numpy as np\n",
        "import torch.nn as nn\n",
        "import torch.nn.functional as F\n",
        "import torchvision.models as models\n",
        "import math\n",
        "import time\n",
        "import datetime\n",
        "from torch import nn, optim\n",
        "import matplotlib.pyplot as plt \n",
        "import torchvision.transforms as T\n",
        "import pandas as pd\n",
        "import seaborn as sns\n",
        "import random"
      ]
    },
    {
      "cell_type": "code",
      "execution_count": 2,
      "metadata": {
        "colab": {
          "base_uri": "https://localhost:8080/"
        },
        "id": "uKskzIweRPIP",
        "outputId": "fed4f4a2-508d-43e5-d5de-9cb133eff451"
      },
      "outputs": [
        {
          "output_type": "stream",
          "name": "stdout",
          "text": [
            "Mounted at /content/gdrive\n"
          ]
        }
      ],
      "source": [
        "drive.mount('/content/gdrive')\n",
        "\n",
        "DATASET_GOOGLE_DRIVE_PATH = '/content/gdrive/MyDrive/Deep Learning /data_hdf5_100'\n",
        "\n",
        "\n",
        "def get_file_name(files_list):\n",
        "  with open(files_list) as f:\n",
        "    return [line.rstrip()[:] for line in f]\n",
        "\n",
        "class FaceMaskData(torch.utils.data.Dataset):\n",
        "\n",
        "  def __init__(self, mode, config, transform=None):\n",
        "\n",
        "    self.data_dir = DATASET_GOOGLE_DRIVE_PATH\n",
        "    self.transform = transform\n",
        "\n",
        "    if mode == 'train':\n",
        "      self.files = get_file_name(os.path.join(self.data_dir, 'train_files.txt'))\n",
        "    else:\n",
        "      self.files = get_file_name(os.path.join(self.data_dir, 'test_files.txt'))\n",
        "\n",
        "    image = []\n",
        "    label = []\n",
        "\n",
        "    for dataset in self.files:\n",
        "      path = os.path.join(self.data_dir, dataset)\n",
        "      self.file = h5py.File(path, 'r')\n",
        "      self.total_num_imgs, self.H, self.W, self.C = self.file['image'].shape\n",
        "      image.append(self.file['image'][:])\n",
        "      label.append(self.file['labels'][:])\n",
        "\n",
        "    self.image= np.vstack(image)\n",
        "    self.label = np.vstack(label)\n",
        "    \n",
        "    self.num_images = len(self.image) \n",
        "    self.num_classes = len(np.unique(self.label))\n",
        "\n",
        "  def __getitem__(self, index):\n",
        "    \"\"\"Return one image and its corresponding attribute label.\"\"\"\n",
        "    image = self.image[index]\n",
        "    label = self.label[index]\n",
        "    if self.transform:\n",
        "        image = self.transform(image)\n",
        "    return image, torch.FloatTensor(label)\n",
        "\n",
        "  def __len__(self):\n",
        "    return self.num_images\n",
        "      \n",
        "  def get_num_class(self):\n",
        "    return self.num_classes"
      ]
    },
    {
      "cell_type": "code",
      "execution_count": 3,
      "metadata": {
        "id": "Dm-kZSBImF7N"
      },
      "outputs": [],
      "source": [
        "def get_configuration(batch_size):\n",
        "    config = {}\n",
        "    config['device'] = torch.device('cuda' if torch.cuda.is_available() else 'cpu')\n",
        "    config['batch_size'] = batch_size\n",
        "    config['num_workers'] = 1\n",
        "    config['lr'] = 0.0001\n",
        "    return config\n",
        "\n",
        "def image_to_rgb(images):\n",
        "  imgs = []\n",
        "  for i in range(len(images)):\n",
        "    image_r = torch.unsqueeze(images[i,:,:,0], 0)\n",
        "    image_g = torch.unsqueeze(images[i,:,:,1], 0)\n",
        "    image_b = torch.unsqueeze(images[i,:,:,2], 0)\n",
        "    image_split_rgb = torch.cat((image_r, image_g, image_b), 0)\n",
        "    image_split_rgb = torch.unsqueeze(image_split_rgb, 0)\n",
        "    imgs.append(image_split_rgb)\n",
        "  return torch.cat(imgs)\n",
        "\n",
        "def print_network(model, name):\n",
        "  num_params = 0\n",
        "  print(\"\\n\")\n",
        "  print(\"model name\", name)\n",
        "  print(model)\n",
        "  num_params = sum([par.numel() for par in model.parameters()])\n",
        "  print(\"The number of parameters: {}\".format(num_params))\n",
        "\n",
        "def save_model(model, step):\n",
        "  save_model_path = \"/content/gdrive/MyDrive/Deep Learning /models\"\n",
        "  model_path = os.path.join(save_model_path, 'model-{}.ckpt'.format(step))\n",
        "  torch.save(model, model_path)\n",
        "  print('Saved model checkpoints into {}...'.format(save_model_path))\n",
        "\n",
        "def load_model(iters):\n",
        "  path = \"/content/gdrive/MyDrive/Deep Learning /models\"\n",
        "  model_path = os.path.join(path, 'model-{}.ckpt'.format(iters))\n",
        "  model = torch.load(model_path)\n",
        "  return model"
      ]
    },
    {
      "cell_type": "code",
      "execution_count": 4,
      "metadata": {
        "id": "l_uNdYK0Injw"
      },
      "outputs": [],
      "source": [
        "config = get_configuration(batch_size=512)\n",
        "dataset = FaceMaskData('train', config)\n",
        "data_loader = torch.utils.data.DataLoader(dataset=dataset,\n",
        "                              batch_size=config['batch_size'],\n",
        "                              shuffle=True, \n",
        "                              num_workers=config['num_workers'])\n",
        "num_classes = dataset.get_num_class()"
      ]
    },
    {
      "cell_type": "code",
      "execution_count": 5,
      "metadata": {
        "id": "TTt3QJYyMkw_"
      },
      "outputs": [],
      "source": [
        "\n",
        "def conv3x3(in_planes, out_planes, stride=1):\n",
        "    conv3x3 = nn.Conv2d(in_planes, out_planes, kernel_size=3, stride=stride, padding=1, bias=False)\n",
        "    return conv3x3\n",
        "\n",
        "def conv1x1(in_planes, out_planes, stride=1):\n",
        "    conv1x1 = nn.Conv2d(in_planes, out_planes, kernel_size=1, stride=stride, bias=False)\n",
        "    return conv1x1\n",
        "\n",
        "\n",
        "\n",
        "class BasicBlock(nn.Module):\n",
        "    exp_block = 1\n",
        "\n",
        "    def __init__(self, inplanes, outplanes, stride=1, downsample=None, nm_layer=None, s_block=False, e_block=False, exd_bn0=False):\n",
        "        super(BasicBlock, self).__init__()\n",
        "        if nm_layer is None:\n",
        "            nm_layer = nn.BatchNorm2d\n",
        "        # When the stride != 1, conv and downsample layers\n",
        "        if not s_block and not exd_bn0:\n",
        "            self.bn0 = nm_layer(inplanes)\n",
        "\n",
        "        self.conv1 = conv3x3(inplanes, outplanes, stride)\n",
        "        self.bn1 = nm_layer(outplanes)\n",
        "        self.relu = nn.ReLU(inplace=True)\n",
        "        self.conv2 = conv3x3(outplanes, outplanes)\n",
        "\n",
        "        if s_block:\n",
        "            self.bn2 = nm_layer(outplanes)\n",
        "\n",
        "        if e_block:\n",
        "            self.bn2 = nm_layer(outplanes)\n",
        "\n",
        "        self.downsample = downsample\n",
        "        self.stride = stride\n",
        "\n",
        "        self.s_block = s_block\n",
        "        self.e_block = e_block\n",
        "        self.exd_bn0 = exd_bn0\n",
        "\n",
        "    def forward(self, x):\n",
        "        identity = x\n",
        "\n",
        "        if self.s_block:\n",
        "            out = self.conv1(x)\n",
        "        elif self.exd_bn0:\n",
        "            out = self.relu(x)\n",
        "            out = self.conv1(out)\n",
        "        else:\n",
        "            out = self.bn0(x)\n",
        "            out = self.relu(out)\n",
        "            out = self.conv1(out)\n",
        "\n",
        "        out = self.bn1(out)\n",
        "        out = self.relu(out)\n",
        "\n",
        "        out = self.conv2(out)\n",
        "\n",
        "        if self.s_block:\n",
        "            out = self.bn2(out)\n",
        "\n",
        "        if self.downsample is not None:\n",
        "            identity = self.downsample(x)\n",
        "\n",
        "        out = out + identity\n",
        "\n",
        "        if self.e_block:\n",
        "            out = self.bn2(out)\n",
        "            out = self.relu(out)\n",
        "\n",
        "        return out\n",
        "\n",
        "class iResNet(nn.Module):\n",
        "\n",
        "    def __init__(self, block, layers, num_classes=num_classes, zero_init_residual=False, nm_layer=None, dropout_prob0=0.0):\n",
        "        super(iResNet, self).__init__()\n",
        "        if nm_layer is None:\n",
        "            nm_layer = nn.BatchNorm2d\n",
        "        self.inplanes = 64\n",
        "        self.conv1 = nn.Conv2d(3, 64, kernel_size=7, stride=2, padding=3,\n",
        "                               bias=False)\n",
        "        self.bn1 = nm_layer(64)\n",
        "        self.relu = nn.ReLU(inplace=True)\n",
        "        self.layer1 = self._make_layer(block, 64, layers[0], stride=2, nm_layer=nm_layer)\n",
        "        self.layer2 = self._make_layer(block, 128, layers[1], stride=2, nm_layer=nm_layer)\n",
        "        self.layer3 = self._make_layer(block, 256, layers[2], stride=2, nm_layer=nm_layer)\n",
        "        self.layer4 = self._make_layer(block, 512, layers[3], stride=2, nm_layer=nm_layer)\n",
        "        self.avgpool = nn.AdaptiveAvgPool2d((1, 1))\n",
        "\n",
        "        if dropout_prob0 > 0.0:\n",
        "            self.dp = nn.Dropout(dropout_prob0, inplace=True)\n",
        "            print(\"The Probability of drop out is: \", dropout_prob0)\n",
        "        else:\n",
        "            self.dp = None\n",
        "\n",
        "        self.fc = nn.Linear(512 * block.exp_block, num_classes)\n",
        "\n",
        "        for m in self.modules():\n",
        "            if isinstance(m, nn.Conv2d):\n",
        "                nn.init.kaiming_normal_(m.weight, mode='fan_out', nonlinearity='relu')\n",
        "            elif isinstance(m, (nn.BatchNorm2d, nn.GroupNorm)):\n",
        "                nn.init.constant_(m.weight, 1)\n",
        "                nn.init.constant_(m.bias, 0)\n",
        "\n",
        "\n",
        "\n",
        "    def _make_layer(self, block, outplanes, blocks, stride=1, nm_layer=None):\n",
        "        if nm_layer is None:\n",
        "            nm_layer = nn.BatchNorm2d\n",
        "        downsample = None\n",
        "        if stride != 1 and self.inplanes != outplanes * block.exp_block:\n",
        "            downsample = nn.Sequential(\n",
        "                nn.MaxPool2d(kernel_size=3, stride=stride, padding=1),\n",
        "                conv1x1(self.inplanes, outplanes * block.exp_block),\n",
        "                nm_layer(outplanes * block.exp_block),\n",
        "            )\n",
        "        elif self.inplanes != outplanes * block.exp_block:\n",
        "            downsample = nn.Sequential(\n",
        "                conv1x1(self.inplanes, outplanes * block.exp_block),\n",
        "                nm_layer(outplanes * block.exp_block),\n",
        "            )\n",
        "        elif stride != 1:\n",
        "            downsample = nn.MaxPool2d(kernel_size=3, stride=stride, padding=1)\n",
        "\n",
        "        layers = []\n",
        "        layers.append(block(self.inplanes, outplanes, stride, downsample, nm_layer, s_block=True))\n",
        "        self.inplanes = outplanes * block.exp_block\n",
        "        exd_bn0 = True\n",
        "        for _ in range(1, (blocks-1)):\n",
        "            layers.append(block(self.inplanes, outplanes, nm_layer=nm_layer, exd_bn0=exd_bn0))\n",
        "            exd_bn0 = False\n",
        "\n",
        "        layers.append(block(self.inplanes, outplanes, nm_layer=nm_layer, e_block=True, exd_bn0=exd_bn0))\n",
        "\n",
        "        return nn.Sequential(*layers)\n",
        "\n",
        "    def forward(self, x):\n",
        "        x = self.conv1(x)\n",
        "        x = self.bn1(x)\n",
        "        x = self.relu(x)\n",
        "\n",
        "        x = self.layer1(x)\n",
        "        x = self.layer2(x)\n",
        "        x = self.layer3(x)\n",
        "        x = self.layer4(x)\n",
        "\n",
        "        x = self.avgpool(x)\n",
        "        x = x.view(x.size(0), -1)\n",
        "\n",
        "        if self.dp is not None:\n",
        "            x = self.dp(x)\n",
        "\n",
        "        x = self.fc(x)\n",
        "\n",
        "        return x"
      ]
    },
    {
      "cell_type": "code",
      "execution_count": 6,
      "metadata": {
        "id": "a_6Uk8AIHjqO"
      },
      "outputs": [],
      "source": [
        "class ArcFaceloss(nn.Module):\n",
        "  def __init__(self, s=45.0, m=0.1, weight = None):\n",
        "    super(ArcFaceloss, self).__init__()\n",
        "    # x = tf.nn.l2_normalize(x, axis=1)\n",
        "    self.weight = weight\n",
        "    self.s = s\n",
        "    self.cosm = math.cos(m)\n",
        "    self.sinm = math.sin(m)\n",
        "    self.th = math.cos(math.pi - m)\n",
        "    self.mm = math.sin(math.pi - m) * m\n",
        "  \n",
        "  def forward(self, input, labels):\n",
        "    num_classes = dataset.get_num_class()\n",
        "    cost = F.normalize(input)\n",
        "    sint = torch.sqrt(1.0 - torch.square(cost))\n",
        "    cosmt = self.s * (self.cosm * cost - self.sinm * sint)\n",
        "    k = torch.where(cost > self.th, cosmt, self.s * (cost - self.mm))\n",
        "    \n",
        "    label = torch.zeros_like(cost)\n",
        "    label.scatter_(1, labels.view(-1, 1).long(), 1)\n",
        "\n",
        "    output = (1 - label) * self.s * cost + label * k\n",
        "\n",
        "    cross_entropy = nn.CrossEntropyLoss()\n",
        "    output = cross_entropy(output, labels)\n",
        "\n",
        "    return output\n"
      ]
    },
    {
      "cell_type": "code",
      "execution_count": 7,
      "metadata": {
        "id": "AkkfmzoF6eE0"
      },
      "outputs": [],
      "source": [
        "model = iResNet(BasicBlock, [3,4,14,3]).cuda()"
      ]
    },
    {
      "cell_type": "code",
      "execution_count": 8,
      "metadata": {
        "colab": {
          "base_uri": "https://localhost:8080/"
        },
        "id": "xGUxdUFLoMIb",
        "outputId": "ab09e411-5720-4e14-bfa6-18d509f6826b"
      },
      "outputs": [
        {
          "output_type": "stream",
          "name": "stdout",
          "text": [
            "Start training ...\n",
            "Elapsed [0:00:50], Iteration [1/30], Loss = 32.42893880\n",
            "Elapsed [0:01:40], Iteration [2/30], Loss = 27.22086765\n",
            "Elapsed [0:02:30], Iteration [3/30], Loss = 22.17439226\n",
            "Elapsed [0:03:21], Iteration [4/30], Loss = 16.73329361\n",
            "Elapsed [0:04:11], Iteration [5/30], Loss = 11.35295491\n",
            "Saved model checkpoints into /content/gdrive/MyDrive/Deep Learning /models...\n",
            "Elapsed [0:05:03], Iteration [6/30], Loss = 7.69541961\n",
            "Elapsed [0:05:53], Iteration [7/30], Loss = 5.59608979\n",
            "Elapsed [0:06:44], Iteration [8/30], Loss = 3.40678158\n",
            "Elapsed [0:07:34], Iteration [9/30], Loss = 2.00623758\n",
            "Elapsed [0:08:24], Iteration [10/30], Loss = 1.10036639\n",
            "Saved model checkpoints into /content/gdrive/MyDrive/Deep Learning /models...\n",
            "Elapsed [0:09:16], Iteration [11/30], Loss = 0.55911700\n",
            "Elapsed [0:10:07], Iteration [12/30], Loss = 0.27409166\n",
            "Elapsed [0:10:57], Iteration [13/30], Loss = 0.15164448\n",
            "Elapsed [0:11:47], Iteration [14/30], Loss = 0.06908870\n",
            "Elapsed [0:12:38], Iteration [15/30], Loss = 0.02775131\n",
            "Saved model checkpoints into /content/gdrive/MyDrive/Deep Learning /models...\n",
            "Elapsed [0:13:30], Iteration [16/30], Loss = 0.02533229\n",
            "Elapsed [0:14:20], Iteration [17/30], Loss = 0.01323762\n",
            "Elapsed [0:15:10], Iteration [18/30], Loss = 0.01459499\n",
            "Elapsed [0:16:01], Iteration [19/30], Loss = 0.01358399\n",
            "Elapsed [0:16:51], Iteration [20/30], Loss = 0.00516386\n",
            "Saved model checkpoints into /content/gdrive/MyDrive/Deep Learning /models...\n",
            "Elapsed [0:17:43], Iteration [21/30], Loss = 0.00131053\n",
            "Elapsed [0:18:34], Iteration [22/30], Loss = 0.00092256\n",
            "Elapsed [0:19:24], Iteration [23/30], Loss = 0.00082935\n",
            "Elapsed [0:20:15], Iteration [24/30], Loss = 0.00078121\n",
            "Elapsed [0:21:05], Iteration [25/30], Loss = 0.00077465\n",
            "Saved model checkpoints into /content/gdrive/MyDrive/Deep Learning /models...\n",
            "Elapsed [0:21:58], Iteration [26/30], Loss = 0.00075673\n",
            "Elapsed [0:22:48], Iteration [27/30], Loss = 0.00074985\n",
            "Elapsed [0:23:39], Iteration [28/30], Loss = 0.00076774\n",
            "Elapsed [0:24:29], Iteration [29/30], Loss = 0.00078191\n",
            "Elapsed [0:25:19], Iteration [30/30], Loss = 0.00078744\n",
            "Saved model checkpoints into /content/gdrive/MyDrive/Deep Learning /models...\n"
          ]
        }
      ],
      "source": [
        "# train\n",
        "\n",
        "criterion = ArcFaceloss().cuda()\n",
        "optimizer = optim.SGD(model.parameters(), lr=0.05, momentum =0.9, weight_decay=5e-4)\n",
        "\n",
        "Epochs = 30\n",
        "\n",
        "loss = []\n",
        "\n",
        "print('Start training ...')\n",
        "start_time = time.time()\n",
        "for epoch in range(1, Epochs+1):\n",
        "  model.train()\n",
        "\n",
        "  loss_acc = 0 \n",
        "  for i, data in enumerate(data_loader, 0):\n",
        "    images, labels = data\n",
        "    images, labels = images.float().cuda(), labels.cuda()\n",
        "    images = image_to_rgb(images)\n",
        "    labels = labels.type(torch.LongTensor).cuda()\n",
        "    labels = labels.squeeze(-1)\n",
        "\n",
        "    logits = model(images)\n",
        "\n",
        "    loss = criterion(logits, labels)\n",
        "    loss_acc += loss.item()\n",
        "\n",
        "    optimizer.zero_grad()\n",
        "    loss.backward()\n",
        "    optimizer.step()\n",
        "\n",
        "  loss_acc /= Epochs\n",
        "  et = time.time() - start_time\n",
        "  et = str(datetime.timedelta(seconds=et))[:-7]\n",
        "  log = \"Elapsed [{}], Iteration [{}/{}]\".format(et, epoch, Epochs)\n",
        "  log += ', Loss = %.8f'%(loss_acc)\n",
        "  print(log)\n",
        "\n",
        "  if epoch % 5 == 0:\n",
        "    save_model(model, epoch)\n"
      ]
    },
    {
      "cell_type": "code",
      "execution_count": 11,
      "metadata": {
        "id": "1nQqgIlL25-7",
        "colab": {
          "base_uri": "https://localhost:8080/"
        },
        "outputId": "8326af80-787f-4d2e-98a6-931a17a86406"
      },
      "outputs": [
        {
          "output_type": "stream",
          "name": "stdout",
          "text": [
            "Accuracy 0.9374 \n"
          ]
        }
      ],
      "source": [
        "# test\n",
        "\n",
        "dataset = FaceMaskData('test', config)\n",
        "test_loader = torch.utils.data.DataLoader(dataset=dataset,\n",
        "                              batch_size=config['batch_size'],\n",
        "                              shuffle=True, \n",
        "                              num_workers=config['num_workers'])\n",
        "num_classes = dataset.get_num_class()\n",
        "model = load_model(30)\n",
        "\n",
        "correct = np.zeros((num_classes, 2)) \n",
        "counts = np.zeros((num_classes, 2))\n",
        "conf_matrix = np.zeros((num_classes, num_classes))\n",
        "\n",
        "with torch.no_grad():\n",
        "  for i, data in enumerate(test_loader):\n",
        "    images, labels = data\n",
        "    images, labels = images.float().cuda(), labels.cuda()\n",
        "    images = image_to_rgb(images)\n",
        "    labels = labels.type(torch.LongTensor).cuda()\n",
        "    labels = labels.squeeze(-1)\n",
        "    output = model(images).cpu()\n",
        "    preds = output.data.max(1, keepdim=True)[1].squeeze(1).numpy()\n",
        "\n",
        "    for i in range(len(preds)):\n",
        "      counts[labels[i]] += 1\n",
        "      conf_matrix[preds[i]][labels[i]] += 1\n",
        "      if labels[i] == preds[i]:\n",
        "        correct[preds[i]] += 1\n",
        "\n",
        "print(\"Accuracy %.4f \"%np.mean(correct/counts))"
      ]
    },
    {
      "cell_type": "code",
      "source": [
        "plt.figure(figsize=(20, 15))\n",
        "df_cm = pd.DataFrame(conf_matrix).astype(int)\n",
        "heatmap = sns.heatmap(df_cm, cmap=\"YlGnBu\")\n",
        "\n",
        "plt.ylabel('True label')\n",
        "plt.xlabel('Predicted label')\n"
      ],
      "metadata": {
        "id": "fy9V02UVsR4R",
        "colab": {
          "base_uri": "https://localhost:8080/",
          "height": 909
        },
        "outputId": "7b5e1d9f-b1b7-47ba-c85e-442e5f83845a"
      },
      "execution_count": 10,
      "outputs": [
        {
          "output_type": "execute_result",
          "data": {
            "text/plain": [
              "Text(0.5, 114.0, 'Predicted label')"
            ]
          },
          "metadata": {},
          "execution_count": 10
        },
        {
          "output_type": "display_data",
          "data": {
            "text/plain": [
              "<Figure size 1440x1080 with 2 Axes>"
            ],
            "image/png": "[encoded data removed]"
          },
          "metadata": {
            "needs_background": "light"
          }
        }
      ]
    },
    {
      "cell_type": "code",
      "source": [
        ""
      ],
      "metadata": {
        "id": "bLzRtVbE2IME"
      },
      "execution_count": 10,
      "outputs": []
    }
  ],
  "metadata": {
    "accelerator": "GPU",
    "colab": {
      "collapsed_sections": [],
      "machine_shape": "hm",
      "name": "train_and_test_version_1.ipynb",
      "provenance": [],
      "include_colab_link": true
    },
    "kernelspec": {
      "display_name": "Python 3",
      "name": "python3"
    },
    "language_info": {
      "name": "python"
    }
  },
  "nbformat": 4,
  "nbformat_minor": 0
}
