{
 "cells": [
  {
   "cell_type": "code",
   "execution_count": null,
   "id": "aab211c6",
   "metadata": {},
   "outputs": [],
   "source": [
    "import os\n",
    "import numpy as np\n",
    "import cv2\n",
    "import h5py\n",
    "from tqdm import tqdm\n",
    "\n",
    "h5pyFile = 'D:/EC523/face_mask_dataset/dataset_nomask.h5'\n",
    "\n",
    "def save_image_to_h5py(path):\n",
    "    img_list=[]\n",
    "    label_list=[]\n",
    "    \n",
    "    for folder in tqdm(os.listdir(path)):\n",
    "        folder_path = os.path.join(path, folder)\n",
    "        photos_list = os.listdir(folder_path) \n",
    "        for num_photos in range(0,len(photos_list)):\n",
    "            label=np.array(folder).astype(int)\n",
    "            label_list.append(label)\n",
    "        for image in os.listdir(folder_path):\n",
    "            img = cv2.imread(os.path.join(folder_path,image))\n",
    "            img_list.append(img)\n",
    "            \n",
    "    img_np = np.array(img_list)\n",
    "    label_np = np.array(label_list)\n",
    "    label_np = label_np.reshape(len(label_list),1)\n",
    "    f = h5py.File(h5pyFile,'w')\n",
    "    f['image']=img_np\n",
    "    f['labels']=label_np\n",
    "    f.close()\n",
    "\n",
    "save_image_to_h5py('D:/EC523/face_mask_dataset/dataset')"
   ]
  },
  {
   "cell_type": "code",
   "execution_count": null,
   "id": "c82bc2d9",
   "metadata": {},
   "outputs": [],
   "source": [
    "import os\n",
    "import numpy as np\n",
    "import cv2\n",
    "import h5py\n",
    "from tqdm import tqdm\n",
    "\n",
    "h5pyFile_masked = 'D:/EC523/face_mask_dataset/dataset_masked.h5'\n",
    "\n",
    "def save_image_to_h5py(path):\n",
    "    img_list=[]\n",
    "    label_list=[]\n",
    "    \n",
    "    for folder in tqdm(os.listdir(path)):\n",
    "        folder_path = os.path.join(path, folder)\n",
    "        photos_list = os.listdir(folder_path) \n",
    "        for num_photos in range(0,len(photos_list)):\n",
    "            label=np.array(folder).astype(int)\n",
    "            label_list.append(label)\n",
    "        for image in os.listdir(folder_path):\n",
    "            img = cv2.imread(os.path.join(folder_path,image))\n",
    "            img_list.append(img)\n",
    "            \n",
    "    img_np = np.array(img_list)\n",
    "    label_np = np.array(label_list)\n",
    "    label_np = label_np.reshape(len(label_list),1)\n",
    "    f = h5py.File(h5pyFile_masked,'w')\n",
    "    f['image']=img_np\n",
    "    f['labels']=label_np\n",
    "    f.close()\n",
    "\n",
    "save_image_to_h5py('D:/EC523/face_mask_dataset/dataset_masked')"
   ]
  },
  {
   "cell_type": "code",
   "execution_count": null,
   "id": "6c300a71",
   "metadata": {},
   "outputs": [],
   "source": [
    "with h5py.File(h5pyFile, \"r\") as f:\n",
    "    # List all groups\n",
    "    for key in f.keys():\n",
    "        print(f[key],key,f[key].name)\n",
    "\n",
    "with h5py.File(h5pyFile_masked, \"r\") as f:\n",
    "    # List all groups\n",
    "    for key in f.keys():\n",
    "        print(f[key],key,f[key].name)"
   ]
  }
 ],
 "metadata": {
  "kernelspec": {
   "display_name": "Python 3 (ipykernel)",
   "language": "python",
   "name": "python3"
  },
  "language_info": {
   "codemirror_mode": {
    "name": "ipython",
    "version": 3
   },
   "file_extension": ".py",
   "mimetype": "text/x-python",
   "name": "python",
   "nbconvert_exporter": "python",
   "pygments_lexer": "ipython3",
   "version": "3.8.8"
  }
 },
 "nbformat": 4,
 "nbformat_minor": 5
}
