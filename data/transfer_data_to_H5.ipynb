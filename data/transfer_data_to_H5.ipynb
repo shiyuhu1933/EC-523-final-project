{
 "cells": [
  {
   "cell_type": "code",
   "execution_count": 1,
   "id": "aab211c6",
   "metadata": {},
   "outputs": [
    {
     "name": "stderr",
     "output_type": "stream",
     "text": [
      "100%|██████████████████████████████████████████████████████████████████████████████| 1000/1000 [01:26<00:00, 11.57it/s]\n"
     ]
    }
   ],
   "source": [
    "import os\n",
    "import numpy as np\n",
    "import cv2\n",
    "import h5py\n",
    "from tqdm import tqdm\n",
    "\n",
    "h5pyFile = 'C:/Users/12691/Desktop/EC523_project/dataset.h5'\n",
    "\n",
    "def save_image_to_h5py(path):\n",
    "    img_list=[]\n",
    "    label_list=[]\n",
    "    \n",
    "    for folder in tqdm(os.listdir(path)):\n",
    "        folder_path = os.path.join(path, folder)\n",
    "        photos_list = os.listdir(folder_path) \n",
    "        for num_photos in range(0,len(photos_list)):\n",
    "            label=np.array(folder).astype(int)\n",
    "            label_list.append(label)\n",
    "        for image in os.listdir(folder_path):\n",
    "            img = cv2.imread(os.path.join(folder_path,image))\n",
    "            img_list.append(img)\n",
    "            \n",
    "    img_np = np.array(img_list)\n",
    "    label_np = np.array(label_list)\n",
    "    label_np = label_np.reshape(len(label_list),1)\n",
    "    f = h5py.File(h5pyFile,'w')\n",
    "    f['image']=img_np\n",
    "    f['labels']=label_np\n",
    "    f.close()\n",
    "\n",
    "save_image_to_h5py('C:/Users/12691/Desktop/EC523_project/dataset')"
   ]
  },
  {
   "cell_type": "code",
   "execution_count": 3,
   "id": "c82bc2d9",
   "metadata": {},
   "outputs": [
    {
     "name": "stderr",
     "output_type": "stream",
     "text": [
      "100%|██████████████████████████████████████████████████████████████████████████████| 1000/1000 [00:56<00:00, 17.60it/s]\n"
     ]
    }
   ],
   "source": [
    "import os\n",
    "import numpy as np\n",
    "import cv2\n",
    "import h5py\n",
    "from tqdm import tqdm\n",
    "\n",
    "h5pyFile_masked = 'C:/Users/12691/Desktop/EC523_project/dataset_masked.h5'\n",
    "\n",
    "def save_image_to_h5py(path):\n",
    "    img_list=[]\n",
    "    label_list=[]\n",
    "    \n",
    "    for folder in tqdm(os.listdir(path)):\n",
    "        folder_path = os.path.join(path, folder)\n",
    "        photos_list = os.listdir(folder_path) \n",
    "        for num_photos in range(0,len(photos_list)):\n",
    "            label=np.array(folder).astype(int)\n",
    "            label_list.append(label)\n",
    "        for image in os.listdir(folder_path):\n",
    "            img = cv2.imread(os.path.join(folder_path,image))\n",
    "            img_list.append(img)\n",
    "            \n",
    "    img_np = np.array(img_list)\n",
    "    label_np = np.array(label_list)\n",
    "    label_np = label_np.reshape(len(label_list),1)\n",
    "    f = h5py.File(h5pyFile_masked,'w')\n",
    "    f['image']=img_np\n",
    "    f['labels']=label_np\n",
    "    f.close()\n",
    "\n",
    "save_image_to_h5py('C:/Users/12691/Desktop/EC523_project/dataset_masked')"
   ]
  },
  {
   "cell_type": "code",
   "execution_count": 4,
   "id": "6c300a71",
   "metadata": {},
   "outputs": [
    {
     "name": "stdout",
     "output_type": "stream",
     "text": [
      "<HDF5 dataset \"image\": shape (56414, 112, 112, 3), type \"|u1\"> image /image\n",
      "<HDF5 dataset \"labels\": shape (56414, 1), type \"<i4\"> labels /labels\n",
      "<HDF5 dataset \"image\": shape (56414, 112, 112, 3), type \"|u1\"> image /image\n",
      "<HDF5 dataset \"labels\": shape (56414, 1), type \"<i4\"> labels /labels\n"
     ]
    }
   ],
   "source": [
    "with h5py.File(h5pyFile, \"r\") as f:\n",
    "    # List all groups\n",
    "    for key in f.keys():\n",
    "        print(f[key],key,f[key].name)\n",
    "\n",
    "with h5py.File(h5pyFile_masked, \"r\") as f:\n",
    "    # List all groups\n",
    "    for key in f.keys():\n",
    "        print(f[key],key,f[key].name)"
   ]
  },
  {
   "cell_type": "code",
   "execution_count": 6,
   "id": "a10faed8",
   "metadata": {},
   "outputs": [
    {
     "name": "stdout",
     "output_type": "stream",
     "text": [
      "<HDF5 dataset \"attributes\": shape (202599, 40), type \"|b1\"> attributes /attributes\n",
      "<HDF5 dataset \"images\": shape (202599, 64, 64, 3), type \"|u1\"> images /images\n"
     ]
    }
   ],
   "source": [
    "path = 'C:/Users/12691/Desktop/celeba_attributes_images.hdf5'\n",
    "with h5py.File(path, \"r\") as f:\n",
    "    # List all groups\n",
    "    for key in f.keys():\n",
    "        print(f[key],key,f[key].name)"
   ]
  }
 ],
 "metadata": {
  "kernelspec": {
   "display_name": "Python 3 (ipykernel)",
   "language": "python",
   "name": "python3"
  },
  "language_info": {
   "codemirror_mode": {
    "name": "ipython",
    "version": 3
   },
   "file_extension": ".py",
   "mimetype": "text/x-python",
   "name": "python",
   "nbconvert_exporter": "python",
   "pygments_lexer": "ipython3",
   "version": "3.8.8"
  }
 },
 "nbformat": 4,
 "nbformat_minor": 5
}
