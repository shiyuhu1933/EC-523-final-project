{
 "cells": [
  {
   "cell_type": "code",
   "execution_count": 2,
   "metadata": {},
   "outputs": [
    {
     "name": "stderr",
     "output_type": "stream",
     "text": [
      "100%|██████████| 8208/8208 [17:08<00:00,  7.98it/s]\n"
     ]
    }
   ],
   "source": [
    "'''\n",
    "1. split the dataset into train and test\n",
    "2. test dataset contains 3 photos for each person\n",
    "3. train dataset contains the rest photos for each person\n",
    "'''\n",
    "\n",
    "\n",
    "import os, sys\n",
    "from tqdm import tqdm\n",
    "import shutil\n",
    "\n",
    "path = '/Volumes/Sandisk/EC523/face_mask_dataset/dataset_masked'\n",
    "path_train = '/Volumes/Sandisk/EC523/face_mask_dataset/dataset_masked_train'\n",
    "path_test = '/Volumes/Sandisk/EC523/face_mask_dataset/dataset_masked_test'\n",
    "\n",
    "for foldername in tqdm(os.listdir(path)):\n",
    "    folder_path = os.path.join(path, foldername)\n",
    "    folder_path_train = os.path.join(path_train, foldername)\n",
    "    folder_path_test = os.path.join(path_test, foldername)\n",
    "    if not os.path.exists(folder_path_train):\n",
    "            os.mkdir(folder_path_train)\n",
    "    if not os.path.exists(folder_path_test):\n",
    "            os.mkdir(folder_path_test)\n",
    "\n",
    "    for index in range(len(os.listdir(folder_path))):\n",
    "        photoname = os.listdir(folder_path)[index]\n",
    "        photo_path = os.path.join(folder_path, photoname)\n",
    "        photo_path_train = os.path.join(folder_path_train, photoname)\n",
    "        photo_path_test = os.path.join(folder_path_test, photoname)\n",
    "        if index < 3:\n",
    "            shutil.copy(photo_path, photo_path_test)\n",
    "        else:\n",
    "            shutil.copy(photo_path, photo_path_train)"
   ]
  }
 ],
 "metadata": {
  "interpreter": {
   "hash": "6fc5f3b8627e1cb06e926a3187ec1f4463dc553aff1cc7a1972feee61b176316"
  },
  "kernelspec": {
   "display_name": "Python 3.8.8 ('base')",
   "language": "python",
   "name": "python3"
  },
  "language_info": {
   "codemirror_mode": {
    "name": "ipython",
    "version": 3
   },
   "file_extension": ".py",
   "mimetype": "text/x-python",
   "name": "python",
   "nbconvert_exporter": "python",
   "pygments_lexer": "ipython3",
   "version": "3.8.8"
  },
  "orig_nbformat": 4
 },
 "nbformat": 4,
 "nbformat_minor": 2
}
