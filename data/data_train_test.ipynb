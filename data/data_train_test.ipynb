{
  "nbformat": 4,
  "nbformat_minor": 0,
  "metadata": {
    "colab": {
      "name": "Copy of project.ipynb",
      "provenance": [],
      "collapsed_sections": []
    },
    "kernelspec": {
      "name": "python3",
      "display_name": "Python 3"
    },
    "language_info": {
      "name": "python"
    },
    "accelerator": "GPU"
  },
  "cells": [
    {
      "cell_type": "code",
      "execution_count": 7,
      "metadata": {
        "id": "s_FGh22TwRhy"
      },
      "outputs": [],
      "source": [
        "import os\n",
        "import random\n",
        "import math\n",
        "import datetime\n",
        "import time\n",
        "import numpy as np\n",
        "import h5py\n",
        "import matplotlib.pyplot as plt\n",
        "import matplotlib.animation as animation\n",
        "from IPython.display import HTML\n",
        "from PIL import Image\n",
        "\n",
        "import torch\n",
        "import torch.nn as nn\n",
        "import torch.nn.functional as F\n",
        "import torch.nn.parallel\n",
        "import torch.backends.cudnn as cudnn\n",
        "import torch.optim as optim\n",
        "import torch.utils.data\n",
        "from torch.utils import data\n",
        "import torchvision.datasets as dset\n",
        "import torchvision.transforms as transforms\n",
        "import torchvision.utils as vutils\n",
        "from torchvision import transforms as T\n",
        "from torchvision.datasets import ImageFolder\n",
        "from torch.autograd import Variable\n",
        "from torchvision.utils import save_image\n",
        "from torch.backends import cudnn\n",
        "\n",
        "import numpy as np \n",
        "from PIL import Image\n",
        "from tqdm import tqdm \n",
        "import random \n",
        "\n",
        "import torch\n",
        "import torchvision\n",
        "import torchvision.transforms as transforms\n",
        "from torchvision.datasets import CIFAR10\n",
        "from torch import nn, optim"
      ]
    },
    {
      "cell_type": "code",
      "source": [
        "import os, sys, h5py"
      ],
      "metadata": {
        "id": "FX8ECCq3d36S"
      },
      "execution_count": 8,
      "outputs": []
    },
    {
      "cell_type": "code",
      "source": [
        "\n",
        "#Get and Load data\n",
        "DIR = os.path.dirname(os.path.abspath('__file__'))\n",
        "sys.path.append(DIR)\n",
        "print (DIR)\n",
        "\n",
        "def get_data_files(file_list):\n",
        "  with open(file_list) as f:\n",
        "    return [line.rstrip()[5:] for line in f]\n",
        "\n",
        "def load_data_files(name):\n",
        "  i = h5py.File(name, 'r')\n",
        "  data = i['data'][:]\n",
        "  label = i['label'][:]\n",
        "  return data, label"
      ],
      "metadata": {
        "id": "ZP0m8L_jbS-2",
        "colab": {
          "base_uri": "https://localhost:8080/"
        },
        "outputId": "39fa83d8-89f5-451c-fcb9-de7017051ba0"
      },
      "execution_count": 9,
      "outputs": [
        {
          "output_type": "stream",
          "name": "stdout",
          "text": [
            "/content\n"
          ]
        }
      ]
    },
    {
      "cell_type": "code",
      "source": [
        "from typing import Text\n",
        "class ModelNet40(data.Dataset):\n",
        "  def _int_(self, num_points, root, train = True):\n",
        "    super()._int_()\n",
        "    root = os.path.abspath(root)\n",
        "    #folder name\n",
        "    #NEED TO CHANGE\n",
        "    self.folder = \"modelnet40_ply_hdf5_2048\"\n",
        "    self.data_dir = os.path.join(root, self.folder)\n",
        "\n",
        "    self.train, self.num_points = train, num_points\n",
        "    if self.train:\n",
        "      self.files = get_data_files( \\\n",
        "                os.path.join(self.data_dir, 'train_files.txt'))\n",
        "    else:\n",
        "      self.files = get_data_files( \\\n",
        "                os.path.join(self.data_dir, 'test_files.txt'))\n",
        "    point_list = []\n",
        "    label_list = []\n",
        "\n",
        "    for i in self.files:\n",
        "        points, labels = load_data_files(os.path.join(root, i))\n",
        "        point_list.append(points)\n",
        "        label_list.append(labels)\n",
        "    self.points = np.concatenate(point_list, 0)\n",
        "    self.labels = np.concatenate(label_list, 0)\n"
      ],
      "metadata": {
        "id": "wMIoGocKXYsA"
      },
      "execution_count": 10,
      "outputs": []
    },
    {
      "cell_type": "code",
      "source": [
        ""
      ],
      "metadata": {
        "id": "E9WN8JwlZPOq"
      },
      "execution_count": null,
      "outputs": []
    }
  ]
}