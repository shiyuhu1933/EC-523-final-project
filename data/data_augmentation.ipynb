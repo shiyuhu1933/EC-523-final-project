{
 "cells": [
  {
   "cell_type": "code",
   "execution_count": 21,
   "metadata": {},
   "outputs": [
    {
     "name": "stderr",
     "output_type": "stream",
     "text": [
      "100%|██████████| 8465/8465 [01:07<00:00, 125.80it/s]\n"
     ]
    }
   ],
   "source": [
    "import os\n",
    "from tqdm import tqdm\n",
    "import shutil\n",
    "\n",
    "path_with_mask = '/Volumes/Sandisk/EC523/dataset/face_image_masked'\n",
    "new_path_with_mask = '/Volumes/Sandisk/EC523/dataset/dataset_100'\n",
    "\n",
    "file_index = 0\n",
    "\n",
    "for filename in tqdm(os.listdir(path_with_mask)):\n",
    "    folder_path = os.path.join(path_with_mask, filename)\n",
    "\n",
    "    file_name = str(file_index)\n",
    "    new_folder_path = os.path.join(new_path_with_mask, file_name)\n",
    "    photos_list = os.listdir(folder_path) \n",
    "    num_photos = len(photos_list)\n",
    "\n",
    "    if num_photos > 100:\n",
    "        \n",
    "        if not os.path.exists(new_folder_path):\n",
    "            os.mkdir(new_folder_path)\n",
    "\n",
    "        photo_index = 0\n",
    "        for photoname in os.listdir(folder_path):\n",
    "\n",
    "            photo_path = os.path.join(folder_path, photoname)\n",
    "            photonamemasked = photoname[:-9] + '.png'\n",
    "\n",
    "            if os.path.exists(photo_path):\n",
    "\n",
    "                new_photo_name = str(file_index) + '_' + str(photo_index) + '.png'\n",
    "                new_photo_path = os.path.join(new_folder_path, new_photo_name)\n",
    "\n",
    "                shutil.copy(photo_path, new_photo_path)\n",
    "\n",
    "                photo_index += 1\n",
    "\n",
    "        file_index += 1\n"
   ]
  },
  {
   "cell_type": "code",
   "execution_count": 5,
   "metadata": {},
   "outputs": [
    {
     "name": "stderr",
     "output_type": "stream",
     "text": [
      "100%|██████████| 447/447 [04:45<00:00,  1.57it/s]\n"
     ]
    }
   ],
   "source": [
    "import torchvision.transforms as T\n",
    "from tqdm import tqdm\n",
    "import os\n",
    "from torchvision.utils import make_grid\n",
    "from torchvision.utils import save_image\n",
    "import PIL.Image\n",
    "\n",
    "\n",
    "path = '/Volumes/Sandisk/EC523/dataset/dataset_100'\n",
    "new_path = '/Volumes/Sandisk/EC523/dataset/dataset_100_aug'\n",
    "\n",
    "for filename in tqdm(os.listdir(path)):\n",
    "    folder_path = os.path.join(path, filename)\n",
    "    folder_new_path = os.path.join(new_path, filename)\n",
    "\n",
    "    if not os.path.exists(folder_new_path):\n",
    "        os.mkdir(folder_new_path)\n",
    "\n",
    "    for imagename in os.listdir(folder_path):\n",
    "        image_path = os.path.join(folder_path, imagename)\n",
    "        name = imagename[:-4] + '_f.png'\n",
    "        image_new_path = os.path.join(folder_new_path, name)\n",
    "\n",
    "        image = PIL.Image.open(image_path)\n",
    "        image = image.transpose(PIL.Image.FLIP_LEFT_RIGHT)\n",
    "\n",
    "        image.save(image_new_path)"
   ]
  },
  {
   "cell_type": "code",
   "execution_count": 7,
   "metadata": {},
   "outputs": [
    {
     "name": "stderr",
     "output_type": "stream",
     "text": [
      "100%|██████████| 447/447 [05:58<00:00,  1.25it/s]\n"
     ]
    }
   ],
   "source": [
    "\n",
    "import os\n",
    "from tqdm import tqdm\n",
    "import shutil\n",
    "\n",
    "\n",
    "path = '/Volumes/Sandisk/EC523/dataset/dataset_100_aug'\n",
    "new_path = '/Volumes/Sandisk/EC523/dataset/dataset_100'\n",
    "\n",
    "for filename in tqdm(os.listdir(path)):\n",
    "    folder_path = os.path.join(path, filename)\n",
    "    folder_new_path = os.path.join(new_path, filename)\n",
    "    \n",
    "    for imagename in os.listdir(folder_path):\n",
    "        image_path = os.path.join(folder_path, imagename)\n",
    "        image_new_path = os.path.join(folder_new_path, imagename)\n",
    "\n",
    "        shutil.copy(image_path, image_new_path)"
   ]
  },
  {
   "cell_type": "code",
   "execution_count": null,
   "metadata": {},
   "outputs": [],
   "source": []
  }
 ],
 "metadata": {
  "interpreter": {
   "hash": "6fc5f3b8627e1cb06e926a3187ec1f4463dc553aff1cc7a1972feee61b176316"
  },
  "kernelspec": {
   "display_name": "Python 3.8.8 ('base')",
   "language": "python",
   "name": "python3"
  },
  "language_info": {
   "codemirror_mode": {
    "name": "ipython",
    "version": 3
   },
   "file_extension": ".py",
   "mimetype": "text/x-python",
   "name": "python",
   "nbconvert_exporter": "python",
   "pygments_lexer": "ipython3",
   "version": "3.8.8"
  },
  "orig_nbformat": 4
 },
 "nbformat": 4,
 "nbformat_minor": 2
}
