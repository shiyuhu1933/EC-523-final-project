{
 "cells": [
  {
   "cell_type": "code",
   "execution_count": 26,
   "id": "96da360a",
   "metadata": {},
   "outputs": [
    {
     "name": "stderr",
     "output_type": "stream",
     "text": [
      "100%|██████████| 8465/8465 [29:31<00:00,  4.78it/s]\n"
     ]
    }
   ],
   "source": [

    "\n",
    "\n",
    "import os, sys\n",
    "from tqdm import tqdm\n",
    "import shutil\n",
    "\n",
    "path_no_mask = '/Volumes/Sandisk/EC523/face_mask_dataset/face_dataset'\n",
    "path_with_mask = '/Volumes/Sandisk/EC523/face_mask_dataset/face_image_masked'\n",
    "\n",
    "new_path_no_mask = '/Volumes/Sandisk/EC523/face_mask_dataset/dataset'\n",
    "new_path_with_mask = '/Volumes/Sandisk/EC523/face_mask_dataset/dataset_masked'\n",
    "\n",
    "file_index = 0\n",
    "\n",
    "for filename in tqdm(os.listdir(path_with_mask)):\n",
    "    folder_path = os.path.join(path_with_mask, filename)\n",
    "    folder_no_mask_path = os.path.join(path_no_mask, filename)\n",
    "\n",
    "    file_name = str(file_index)\n",
    "    new_folder_path = os.path.join(new_path_with_mask, file_name)\n",
    "    new_folder_no_mask_path = os.path.join(new_path_no_mask, file_name)\n",
    "\n",
    "    photos_list = os.listdir(folder_path) \n",
    "    num_photos = len(photos_list)\n",
    "\n",
    "    if num_photos > 100:\n",
    "        \n",
    "        if not os.path.exists(new_folder_path):\n",
    "            os.mkdir(new_folder_path)\n",
    "        if not os.path.exists(new_folder_no_mask_path):\n",
    "            os.mkdir(new_folder_no_mask_path)\n",
    "\n",
    "        photo_index = 0\n",
    "        for photoname in os.listdir(folder_path):\n",
    "\n",
    "            photo_path = os.path.join(folder_path, photoname)\n",
    "            photonamemasked = photoname[:-9] + '.png'\n",
    "            photo_no_mask_path = os.path.join(folder_no_mask_path, photonamemasked)\n",
    "\n",
    "            if os.path.exists(photo_path) and os.path.exists(photo_no_mask_path):\n",
    "\n",
    "                new_photo_name = str(file_index) + '_' + str(photo_index) + '.png'\n",
    "                new_photo_path = os.path.join(new_folder_path, new_photo_name)\n",
    "                new_photo_no_mask_path = os.path.join(new_folder_no_mask_path, new_photo_name)\n",
    "\n",
    "                shutil.copy(photo_path, new_photo_path)\n",
    "                shutil.copy(photo_no_mask_path, new_photo_no_mask_path)\n",
    "\n",
    "                photo_index += 1\n",
    "\n",
    "        file_index += 1\n",
    "\n",
    "\n",
    "\n",
    "\n"
   ]
  },
  {
   "cell_type": "code",
   "execution_count": null,
   "id": "b55ef7a0",
   "metadata": {},
   "outputs": [],
   "source": []
  }
 ],
 "metadata": {
  "kernelspec": {
   "display_name": "Python 3",
   "language": "python",
   "name": "python3"
  },
  "language_info": {
   "codemirror_mode": {
    "name": "ipython",
    "version": 3
   },
   "file_extension": ".py",
   "mimetype": "text/x-python",
   "name": "python",
   "nbconvert_exporter": "python",
   "pygments_lexer": "ipython3",
   "version": "3.8.8"
  }
 },
 "nbformat": 4,
 "nbformat_minor": 5
}
