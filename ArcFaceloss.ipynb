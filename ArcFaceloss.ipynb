{
 "cells": [
  {
   "cell_type": "code",
   "execution_count": null,
   "metadata": {
    "id": "VEckbTFlOnL1"
   },
   "outputs": [],
   "source": [
    "import torch\n",
    "import torch.nn as nn\n",
    "import math\n",
    "\n",
    "class ArcFaceloss(nn.Module):\n",
    "\n",
    "    def __init__(self, s=45.0, m=0.1, weight = None):\n",
    "        super(ArcFaceloss, self).__init__()\n",
    "      \n",
    "        self.weight = weight\n",
    "        self.s = s\n",
    "        self.cosm = math.cos(m)\n",
    "        self.sinm = math.sin(m)\n",
    "        self.th = math.cos(math.pi - m)\n",
    "        self.mm = math.sin(math.pi - m) * m\n",
    "    \n",
    "    def forward(self, input, labels):\n",
    "        \n",
    "        cost = F.normalize(input)\n",
    "        sint = torch.sqrt(1.0 - torch.square(cost))\n",
    "        cosmt = self.s * (self.cosm * cost - aelf.sinm * sint)\n",
    "        k = torch.where(cost > self.th, cosmt, self.s * (cost - self.mm))\n",
    "        \n",
    "        label = torch.zeros_like(cost)\n",
    "        label.scatter_(1,labels.view(-1,1).long(),1)\n",
    "        output = (1 - label) * self.s * cost + label * k\n",
    "        \n",
    "        cross_entropy = nn.CrossEntropyLoss()\n",
    "        output = cross_entropy(output, labels)\n",
    "        return output "
   ]
  }
 ],
 "metadata": {
  "colab": {
   "collapsed_sections": [],
   "name": "ArcFaceloss.ipynb",
   "provenance": []
  },
  "kernelspec": {
   "display_name": "Python 3 (ipykernel)",
   "language": "python",
   "name": "python3"
  },
  "language_info": {
   "codemirror_mode": {
    "name": "ipython",
    "version": 3
   },
   "file_extension": ".py",
   "mimetype": "text/x-python",
   "name": "python",
   "nbconvert_exporter": "python",
   "pygments_lexer": "ipython3",
   "version": "3.8.8"
  }
 },
 "nbformat": 4,
 "nbformat_minor": 1
}
