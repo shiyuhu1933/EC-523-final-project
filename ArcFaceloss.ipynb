{
  "nbformat": 4,
  "nbformat_minor": 0,
  "metadata": {
    "colab": {
      "name": "ArcFaceloss.ipynb",
      "provenance": [],
      "collapsed_sections": []
    },
    "kernelspec": {
      "name": "python3",
      "display_name": "Python 3"
    },
    "language_info": {
      "name": "python"
    }
  },
  "cells": [
    {
      "cell_type": "code",
      "execution_count": null,
      "metadata": {
        "id": "VEckbTFlOnL1"
      },
      "outputs": [],
      "source": [
        "import torch\n",
        "import torch.nn as nn\n",
        "import math\n",
        "\n",
        "class ArcFaceloss(nn.Module):\n",
        "\n",
        "    def __init__(self, s, m, weight = None, target):\n",
        "      super(ArcFaceloss, self).__init__()\n",
        "      # x = tf.nn.l2_normalize(x, axis=1)\n",
        "      self.weight = weight\n",
        "      self.s = s\n",
        "      self.cosm = math.cos(m)\n",
        "      self.sinm = math.sin(m)\n",
        "      self.th = math.cos(math.pi - m)\n",
        "      self.mm = math.sin(math.pi - m) * m\n",
        "    \n",
        "    def forward(self, input, labels, num_classes):\n",
        "      cost = input\n",
        "      sint = torch.sqrt(1.0 - torch.square(cos_t))\n",
        "      cosmt = self.s * (cosm * cost - sinm * sint)\n",
        "      if cost > self.th:\n",
        "        k = cosmt\n",
        "      else:\n",
        "        k = self.s * (cost - self.mm)\n",
        "      label = F.one_hot(labels, num_classes)\n",
        "      output = (1 - label) * self.s * cost + label * k\n",
        "      return output "
      ]
    }
  ]
}